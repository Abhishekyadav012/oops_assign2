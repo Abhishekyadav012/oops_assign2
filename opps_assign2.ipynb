{
 "cells": [
  {
   "cell_type": "markdown",
   "id": "98894f4a-a1fe-4519-bab0-6a135d58e768",
   "metadata": {},
   "source": [
    "Q1. What is Abstraction in OOps? Explain with an example."
   ]
  },
  {
   "cell_type": "code",
   "execution_count": 1,
   "id": "b2a436b7-ce90-4836-affe-0731eed3e4ee",
   "metadata": {},
   "outputs": [
    {
     "data": {
      "text/plain": [
       "\"In object oriented programming abstraction is powerfull concept . That allows you to create modular \\n   maintainable system . It's hidding unneccesery detalils and definig common behavier for abstract classes\""
      ]
     },
     "execution_count": 1,
     "metadata": {},
     "output_type": "execute_result"
    }
   ],
   "source": [
    "'''In object oriented programming abstraction is powerfull concept . That allows you to create modular \n",
    "   maintainable system . It's hidding unneccesery detalils and definig common behavier for abstract classes and interfaces''' "
   ]
  },
  {
   "cell_type": "code",
   "execution_count": 2,
   "id": "bf503b75-217c-4cb8-9868-bcdbd656a917",
   "metadata": {},
   "outputs": [],
   "source": [
    "import abc\n",
    "class pwskills:\n",
    "    @abc.abstractmethod\n",
    "    def student_details(self):\n",
    "        pass\n",
    "    \n",
    "    @abc.abstractmethod\n",
    "    def assignment(self):\n",
    "        pass\n",
    "    \n",
    "    @abc.abstractmethod\n",
    "    def student_marks(self):\n",
    "        pass"
   ]
  },
  {
   "cell_type": "code",
   "execution_count": 3,
   "id": "22233893-49ba-4355-b7b3-e023f84c69e7",
   "metadata": {},
   "outputs": [],
   "source": [
    "class data_science(pwskills):\n",
    "    \n",
    "    def student_details(self):\n",
    "        return \"this method is use to collect student information\"\n",
    "    def assignment(self):\n",
    "        return \"this will be give data science masters assignment for student\""
   ]
  },
  {
   "cell_type": "code",
   "execution_count": 4,
   "id": "9d4efa9c-c122-4916-a82f-eca8d43f7cf2",
   "metadata": {},
   "outputs": [],
   "source": [
    "class student_detalis(pwskills):\n",
    "    def student_marks(self):\n",
    "        return 'this is test marks'\n",
    "    def student_details(self):\n",
    "        return 'this meth is use student information'"
   ]
  },
  {
   "cell_type": "code",
   "execution_count": 5,
   "id": "63922f18-3e79-4977-a334-f3b3c32cb423",
   "metadata": {},
   "outputs": [],
   "source": [
    "obj1=data_science()"
   ]
  },
  {
   "cell_type": "code",
   "execution_count": 8,
   "id": "2c2b5945-6a52-4007-9b8f-86efb60dbf00",
   "metadata": {},
   "outputs": [],
   "source": [
    "obj2=student_detalis()"
   ]
  },
  {
   "cell_type": "code",
   "execution_count": 10,
   "id": "15773db3-88fb-4820-b34f-9ca57ff6f967",
   "metadata": {},
   "outputs": [
    {
     "data": {
      "text/plain": [
       "'this method is use to collect student information'"
      ]
     },
     "execution_count": 10,
     "metadata": {},
     "output_type": "execute_result"
    }
   ],
   "source": [
    "obj1.student_details()"
   ]
  },
  {
   "cell_type": "code",
   "execution_count": 11,
   "id": "4e419879-41f8-405e-8f02-3049a191ef1a",
   "metadata": {},
   "outputs": [
    {
     "data": {
      "text/plain": [
       "'this meth is use student information'"
      ]
     },
     "execution_count": 11,
     "metadata": {},
     "output_type": "execute_result"
    }
   ],
   "source": [
    "obj2.student_details()"
   ]
  },
  {
   "cell_type": "markdown",
   "id": "f0f755ca-3e16-4ac1-b641-00d41b70c42f",
   "metadata": {},
   "source": [
    " Q2. Differentiate between Abstraction and Encapsulation. Explain with an example."
   ]
  },
  {
   "cell_type": "code",
   "execution_count": 61,
   "id": "19a2a959-6154-4267-9969-3942a392fa35",
   "metadata": {},
   "outputs": [],
   "source": [
    "'''By the help of Abstraction ready to skeleton of our program\n",
    "Main concept of abstraction hidding the unnecessery details from the user'''\n",
    "from abc import ABC, abstractmethod\n",
    "\n",
    "class Shape(ABC):\n",
    "    @abstractmethod\n",
    "    def area(self):\n",
    "        pass\n",
    "    @abstractmethod\n",
    "    def perimeter(self):\n",
    "        pass\n",
    "\n",
    "class rectangle(Shape):\n",
    "    def __init__(self, height,width):\n",
    "        self.height=height\n",
    "        self.width=width\n",
    "        \n",
    "\n",
    "    def area(self):\n",
    "        return self.height * self.width\n",
    "    \n",
    "    def perimeter(self):\n",
    "        return 2*(self.height+self.width)\n",
    "\n",
    "class circle(Shape):\n",
    "    def __init__(self,redius):\n",
    "        self.redius=redius\n",
    "    def area(self):\n",
    "        return 3.14*self.redius*self.redius\n",
    "    def perimeter(self):\n",
    "        return 2*3.14*self.redius"
   ]
  },
  {
   "cell_type": "code",
   "execution_count": 62,
   "id": "66304954-e9f4-44e0-90d8-eec9a486115f",
   "metadata": {},
   "outputs": [],
   "source": [
    "rec=rectangle(15,25)"
   ]
  },
  {
   "cell_type": "code",
   "execution_count": 63,
   "id": "52061b0c-00a3-44f0-a7d1-4119f186630a",
   "metadata": {},
   "outputs": [],
   "source": [
    "cir=circle(40)"
   ]
  },
  {
   "cell_type": "code",
   "execution_count": 64,
   "id": "b1bf53e3-e1e9-4360-a4db-5f5d4d24ce6d",
   "metadata": {},
   "outputs": [
    {
     "data": {
      "text/plain": [
       "375"
      ]
     },
     "execution_count": 64,
     "metadata": {},
     "output_type": "execute_result"
    }
   ],
   "source": [
    "rec.area()"
   ]
  },
  {
   "cell_type": "code",
   "execution_count": 65,
   "id": "1a8bacb4-a1ab-42b9-bf62-08558c97d75b",
   "metadata": {},
   "outputs": [
    {
     "data": {
      "text/plain": [
       "80"
      ]
     },
     "execution_count": 65,
     "metadata": {},
     "output_type": "execute_result"
    }
   ],
   "source": [
    "rec.perimeter()"
   ]
  },
  {
   "cell_type": "code",
   "execution_count": 66,
   "id": "34260cd0-7a00-464f-9b5e-6039b751c8b2",
   "metadata": {},
   "outputs": [
    {
     "data": {
      "text/plain": [
       "5024.0"
      ]
     },
     "execution_count": 66,
     "metadata": {},
     "output_type": "execute_result"
    }
   ],
   "source": [
    "cir.area()"
   ]
  },
  {
   "cell_type": "code",
   "execution_count": 67,
   "id": "e501f2ef-2c8e-4ac6-9c57-a26137952917",
   "metadata": {},
   "outputs": [
    {
     "data": {
      "text/plain": [
       "251.20000000000002"
      ]
     },
     "execution_count": 67,
     "metadata": {},
     "output_type": "execute_result"
    }
   ],
   "source": [
    "cir.perimeter()"
   ]
  },
  {
   "cell_type": "code",
   "execution_count": 53,
   "id": "ce5731e5-a82c-46c7-bff2-87d9f5017457",
   "metadata": {},
   "outputs": [],
   "source": [
    "'''Encapsulation is provide the security of the program\n",
    "1. PROTECTED: USE SINGLE UNDERSCORE BEFORE THE VARIABLE THEN IT IS PROTECTED( _PW )\n",
    "2.PRIVATE: USE DOUBLE UNDERSCORE  BEFORE THE VARIABLE THEN IT IS PRIVATE( __PW )'''\n",
    "class bank:\n",
    "    def __init__(self,balance=0):\n",
    "        self.__balance=balance\n",
    "    def deposite(self,balance):\n",
    "        self.__balance=self.__balance+balance\n",
    "    def withdraw(self,balance):\n",
    "        if self.__balance>=balance:\n",
    "            self.__balance=self.__balance-balance\n",
    "            return True\n",
    "        else:\n",
    "            return False\n",
    "    def get_balance(self):\n",
    "        return self.__balance"
   ]
  },
  {
   "cell_type": "code",
   "execution_count": 54,
   "id": "56118d31-3190-4518-b321-594bd7880fa1",
   "metadata": {},
   "outputs": [],
   "source": [
    "abhi=bank(1000)"
   ]
  },
  {
   "cell_type": "code",
   "execution_count": 55,
   "id": "ede25136-0678-445a-942a-0c85feeb40ee",
   "metadata": {},
   "outputs": [],
   "source": [
    "abhi.deposite(2000)"
   ]
  },
  {
   "cell_type": "code",
   "execution_count": 56,
   "id": "c805f1e1-3e10-43aa-b918-92af51606753",
   "metadata": {},
   "outputs": [
    {
     "data": {
      "text/plain": [
       "3000"
      ]
     },
     "execution_count": 56,
     "metadata": {},
     "output_type": "execute_result"
    }
   ],
   "source": [
    "abhi.get_balance()"
   ]
  },
  {
   "cell_type": "code",
   "execution_count": 57,
   "id": "cd35d3cb-7d2e-4403-8e18-f68a2cbf11de",
   "metadata": {},
   "outputs": [
    {
     "data": {
      "text/plain": [
       "True"
      ]
     },
     "execution_count": 57,
     "metadata": {},
     "output_type": "execute_result"
    }
   ],
   "source": [
    "abhi.withdraw(1500)"
   ]
  },
  {
   "cell_type": "code",
   "execution_count": 58,
   "id": "1ddef7e0-da2b-4150-a763-651788994326",
   "metadata": {},
   "outputs": [
    {
     "data": {
      "text/plain": [
       "False"
      ]
     },
     "execution_count": 58,
     "metadata": {},
     "output_type": "execute_result"
    }
   ],
   "source": [
    "abhi.withdraw(2000)"
   ]
  },
  {
   "cell_type": "code",
   "execution_count": 59,
   "id": "fed3b972-8b9b-4525-9436-474c1dcc4c99",
   "metadata": {},
   "outputs": [
    {
     "data": {
      "text/plain": [
       "1500"
      ]
     },
     "execution_count": 59,
     "metadata": {},
     "output_type": "execute_result"
    }
   ],
   "source": [
    "abhi.get_balance()"
   ]
  },
  {
   "cell_type": "markdown",
   "id": "bf5897e8-d96d-41c5-90ba-afa2949f6c48",
   "metadata": {},
   "source": [
    "Q3.What is abc module in python? Why is it used?"
   ]
  },
  {
   "cell_type": "code",
   "execution_count": null,
   "id": "7708bc3b-3efb-4bbe-af5e-f8a57a41997e",
   "metadata": {},
   "outputs": [],
   "source": [
    "'''The abc module in python provide defining abstract base class(ABC).An abstract base class is a class that cannot be instantiated\n",
    "but can be used as a base class for other classes.'''\n",
    "\n",
    "'''The abc module provides two main features for defining ABCs:\n",
    "\n",
    "The ABCMeta metaclass, which is used to create ABCs.\n",
    "The @abstractmethod decorator, which is used to mark methods as abstract.'''"
   ]
  },
  {
   "cell_type": "markdown",
   "id": "cd2d2e0e-6c0b-40a9-98b4-d814b92bebd1",
   "metadata": {},
   "source": [
    "Q4. How can we achieve data abstraction?"
   ]
  },
  {
   "cell_type": "code",
   "execution_count": 2,
   "id": "166daee2-a1ca-4069-b27f-7d295740a683",
   "metadata": {},
   "outputs": [],
   "source": [
    "Data Abstraction in python can be achieved through creating abstract classes and inheriting them later."
   ]
  },
  {
   "cell_type": "markdown",
   "id": "b79609f8-5bb1-4b1b-aad6-9a08cf35e556",
   "metadata": {},
   "source": [
    "Q5. Can we create an instance of an abstract class? Explain your answer."
   ]
  },
  {
   "cell_type": "code",
   "execution_count": null,
   "id": "98bbcdea-54af-4a07-afa6-7c8202e96c8f",
   "metadata": {},
   "outputs": [],
   "source": [
    "'''We cannot create an abstract class directly in python .Python does provide a module that allows us to define abstract classes.\n",
    "The module we can use to create an abstract class in python is abc(abstract base class) module .'''\n",
    "\n",
    "# SYNTAX\n",
    "from abc import ABC\n",
    "class abstract_class_name(ABC):\n",
    "    #body of the class"
   ]
  }
 ],
 "metadata": {
  "kernelspec": {
   "display_name": "Python 3 (ipykernel)",
   "language": "python",
   "name": "python3"
  },
  "language_info": {
   "codemirror_mode": {
    "name": "ipython",
    "version": 3
   },
   "file_extension": ".py",
   "mimetype": "text/x-python",
   "name": "python",
   "nbconvert_exporter": "python",
   "pygments_lexer": "ipython3",
   "version": "3.10.8"
  }
 },
 "nbformat": 4,
 "nbformat_minor": 5
}
